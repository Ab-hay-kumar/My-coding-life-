{
 "cells": [
  {
   "cell_type": "code",
   "execution_count": 8,
   "id": "9854d301",
   "metadata": {},
   "outputs": [
    {
     "name": "stdout",
     "output_type": "stream",
     "text": [
      "3\n",
      "2 4 2\n",
      "8\n"
     ]
    }
   ],
   "source": [
    "#Sum Of Array\n",
    "def sum_array(a):\n",
    "    m = len(a)\n",
    "    if m==0:\n",
    "        return 0\n",
    "    smallerlist = a[1:]\n",
    "    sum_smallerlist = sum_array(smallerlist)\n",
    "    return sum_smallerlist + a[0]\n",
    "\n",
    "n = int(input())\n",
    "a = list(map(int,input().split()))\n",
    "print(sum_array(a))"
   ]
  },
  {
   "cell_type": "code",
   "execution_count": null,
   "id": "1c42c45c",
   "metadata": {},
   "outputs": [],
   "source": [
    "#prob.2 check number in array\n",
    "def num_check(arr1, num_1):\n",
    "    if len(arr1) == 0:\n",
    "        return False\n",
    "    if arr1[0] == num_1:\n",
    "        return True\n",
    "    return (num_check(arr1[1:],num_1))\n",
    "   \n",
    "num_1 = int(input())\n",
    "arr1 = list(map(int,input().split()))\n",
    "print(num_check(arr1))\n",
    "    \n",
    "        \n",
    "    "
   ]
  },
  {
   "cell_type": "code",
   "execution_count": 7,
   "id": "7d8dd403",
   "metadata": {},
   "outputs": [
    {
     "name": "stdout",
     "output_type": "stream",
     "text": [
      "-1\n"
     ]
    }
   ],
   "source": [
    "#first index of a number\n",
    "def first_index(N, arr1,num):\n",
    "    if N == 0 or len(arr1)== 0:\n",
    "        return -1\n",
    "    smallerlist = arr1[1:]\n",
    "    if arr1[0] ==num:\n",
    "        return N - len(arr1)\n",
    "    return first_index(N, smallerlist, num)\n",
    "N =4\n",
    "arr1 = [9, 8 ,10, 8]\n",
    "num = 11\n",
    "print(first_index(N, arr1, num))\n",
    "    \n",
    "    \n",
    "    \n",
    "    \n",
    "    "
   ]
  },
  {
   "cell_type": "code",
   "execution_count": null,
   "id": "f8735c57",
   "metadata": {},
   "outputs": [],
   "source": [
    "#last index of number\n",
    "def last_index(arr1, num1, len1):\n",
    "    if len(arr1 ==0):\n",
    "        return -1\n",
    "    \n",
    "    smallerlist = last_index(arr1[1:], num1, len1)\n",
    "    \n",
    "    return smallerlist\n",
    "\n",
    "    "
   ]
  },
  {
   "cell_type": "code",
   "execution_count": 3,
   "id": "c167d4f7",
   "metadata": {},
   "outputs": [
    {
     "name": "stdout",
     "output_type": "stream",
     "text": [
      "cgbvxxk\n",
      "cgbvk\n"
     ]
    }
   ],
   "source": [
    "#remove x\n",
    "def remove_x(str1,x):\n",
    "    if (len(str1)==0):\n",
    "        return str1\n",
    "    smalleroutput = remove_x(str1[1:],x)\n",
    "    if str1[0]==x:\n",
    "        return smalleroutput\n",
    "    else:\n",
    "        return str1[0] + smalleroutput\n",
    "s = input()\n",
    "x =\"x\"\n",
    "print(remove_x(s,x))\n"
   ]
  },
  {
   "cell_type": "code",
   "execution_count": 3,
   "id": "ddc44808",
   "metadata": {
    "scrolled": true
   },
   "outputs": [
    {
     "name": "stdout",
     "output_type": "stream",
     "text": [
      "aabccba\n",
      "abcba\n"
     ]
    }
   ],
   "source": [
    "#remove duplicates recursively\n",
    "def remove_dupl(str1):\n",
    "    if len(str1)==0 :\n",
    "        return str1\n",
    "    if len(str1)==1:\n",
    "        return str1[0]\n",
    "    \n",
    "    smalleroutput = remove_dupl(str1[1:])\n",
    "    if str1[0]== str1[1]:\n",
    "        return smalleroutput\n",
    "    else:\n",
    "        return str1[0] + smalleroutput\n",
    "str1 = input()\n",
    "print(remove_dupl(str1))\n",
    "    "
   ]
  },
  {
   "cell_type": "code",
   "execution_count": 6,
   "id": "a655128f",
   "metadata": {},
   "outputs": [
    {
     "name": "stdout",
     "output_type": "stream",
     "text": [
      "[\"h\",\"e\",\"l\",\"l\",\"o\"]\n",
      "[\"h\",\"e\",\"l\",\"l\",\"o\"]\n"
     ]
    }
   ],
   "source": [
    "str1 = input()\n",
    "print(str1)"
   ]
  },
  {
   "cell_type": "code",
   "execution_count": 1,
   "id": "dc89c5f0",
   "metadata": {},
   "outputs": [
    {
     "name": "stdout",
     "output_type": "stream",
     "text": [
      "[3, 4, 6, 7, 8]\n"
     ]
    }
   ],
   "source": [
    "#merge sort\n",
    "def merge_sort(a):\n",
    "    mid =len(a)//2\n",
    "    if len(a) == 0 or len(a)==1:\n",
    "        return \n",
    "    a1 = a[:mid]\n",
    "    a2 = a[mid:]\n",
    "    merge_sort(a1)\n",
    "    merge_sort(a2)\n",
    "    \n",
    "    merge(a1,a2,a)\n",
    "    return a\n",
    "def merge(a1,a2,a):\n",
    "    i=0\n",
    "    j=0\n",
    "    k=0\n",
    "    while i<len(a1) and j<len(a2):\n",
    "        if a1[i] <a2[j]:\n",
    "            a[k]= a1[i]\n",
    "            k = k+1\n",
    "            i =i+1\n",
    "        else:\n",
    "            a[k]=a2[j]\n",
    "            k = k+1\n",
    "            j = j+1\n",
    "    while i<len(a1) :\n",
    "        a[k] = a1[i]\n",
    "        k = k+1\n",
    "        i = i+1\n",
    "    while j< len(a2):\n",
    "        a[k] = a2[j]\n",
    "        k = k+1\n",
    "        j = j+1\n",
    "a = [7,4,8,6,3]\n",
    "print(merge_sort(a))\n",
    "        \n",
    "        \n",
    "            \n",
    "            \n"
   ]
  },
  {
   "cell_type": "code",
   "execution_count": 4,
   "id": "30b9bbe4",
   "metadata": {},
   "outputs": [
    {
     "ename": "SyntaxError",
     "evalue": "unexpected EOF while parsing (2723352798.py, line 29)",
     "output_type": "error",
     "traceback": [
      "\u001b[1;36m  Input \u001b[1;32mIn [4]\u001b[1;36m\u001b[0m\n\u001b[1;33m    \u001b[0m\n\u001b[1;37m    ^\u001b[0m\n\u001b[1;31mSyntaxError\u001b[0m\u001b[1;31m:\u001b[0m unexpected EOF while parsing\n"
     ]
    }
   ],
   "source": [
    "#quick sort\n",
    "def pivot_index(a,s,e):\n",
    "    m= a[s]\n",
    "    i = 0\n",
    "    for k in range(e+1):\n",
    "        if a[k]<m:\n",
    "            i=i+1\n",
    "    a[s+i], a[s] = a[s] , a[s+i]\n",
    "    for j in range(i+1):\n",
    "        for l in range(i+1,e+1):\n",
    "             if a[j] > a[i] and a[l]<a[i]:\n",
    "                    a[j], a[i] = a[i] ,a[j]\n",
    "             \n",
    "    return a\n",
    "def quick_sort(a,s,e):\n",
    "    if  s >= e:\n",
    "        return \n",
    "    i = pivot_index(a,s,e)\n",
    "    \n",
    "    quick_sort(a,i+1,e-1)\n",
    "    quick_sort(a,s,i-1)\n",
    "    \n",
    "    \n",
    "a = [6,5,6,3,2,4]\n",
    "print(quick_sort(a,0,len(a)-1)\n",
    "\n",
    "\n",
    "       \n",
    "        "
   ]
  },
  {
   "cell_type": "code",
   "execution_count": 48,
   "id": "e3cda874",
   "metadata": {},
   "outputs": [
    {
     "name": "stdout",
     "output_type": "stream",
     "text": [
      "[4, 6, 8, 3, 7, 9]\n"
     ]
    }
   ],
   "source": [
    "def pivot_index(a,s,e):\n",
    "    m= a[s]\n",
    "    i = 0\n",
    "    for k in range(e+1):\n",
    "        if a[k]<m:\n",
    "            i=i+1\n",
    "    a[s+i], a[s] = a[s] , a[s+i]\n",
    "    for j in range(i+1):\n",
    "        for l in range(i+1,e+1):\n",
    "             if a[j] > a[i] and a[l]<a[i]:\n",
    "                    a[j], a[i] = a[i] ,a[j]\n",
    "             \n",
    "    \n",
    "    return a\n",
    "a = [6,8,4,3,7,9]\n",
    "print(pivot_index(a,0,len(a)-1))\n",
    "\n",
    "\n"
   ]
  },
  {
   "cell_type": "code",
   "execution_count": null,
   "id": "315b1dcb",
   "metadata": {},
   "outputs": [],
   "source": [
    "#geometric sum\n",
    "def geo_sum(n):\n",
    "    if n ==0:\n",
    "        return 1\n",
    "    smalleroutput  = geo_sum(n-1)\n",
    "    \n",
    "    return 1/(2**n) + smalleroutput\n",
    "n = int(input())\n",
    "b = (geo_sum(4))\n",
    "print(round(b,6))\n",
    "\n",
    "                    \n",
    "    "
   ]
  },
  {
   "cell_type": "code",
   "execution_count": 3,
   "id": "4e32b5d1",
   "metadata": {},
   "outputs": [
    {
     "name": "stdout",
     "output_type": "stream",
     "text": [
      "3\n",
      "a c\n",
      "a b\n",
      "c b\n",
      "a c\n",
      "b a\n",
      "b c\n",
      "a c\n",
      "None\n"
     ]
    }
   ],
   "source": [
    "#tower of hanoi\n",
    "def tower_hanoi(n,s,a,d):\n",
    "    if n==1:\n",
    "        print(s,d)\n",
    "        return\n",
    "        \n",
    "        \n",
    "    tower_hanoi(n-1,s,d,a)\n",
    "    print( s , d)\n",
    "    tower_hanoi(n-1,a,s,d)\n",
    "n = int(input())\n",
    "print(tower_hanoi(n,'a','b','c'))\n"
   ]
  },
  {
   "cell_type": "code",
   "execution_count": 4,
   "id": "651f38dd",
   "metadata": {},
   "outputs": [
    {
     "name": "stdout",
     "output_type": "stream",
     "text": [
      "qwert\n",
      "False\n"
     ]
    }
   ],
   "source": [
    "#check_palindrome\n",
    "def check_palindrome(a,si,ei):\n",
    "    if len(a)==0 or len(a)==1 or si == ei:\n",
    "        return True\n",
    "    n = len(a)-1\n",
    "    if a[0] != a[n]:\n",
    "        return False\n",
    "    check_palindrome(a[si+1:ei-1], si+1, ei-1)\n",
    "    return True\n",
    "    \n",
    "a = input()\n",
    "print(check_palindrome(a,0,len(a)-1) )\n"
   ]
  },
  {
   "cell_type": "code",
   "execution_count": 46,
   "id": "dab523c6",
   "metadata": {},
   "outputs": [
    {
     "name": "stdout",
     "output_type": "stream",
     "text": [
      "9\n",
      "9\n"
     ]
    }
   ],
   "source": [
    "#sum_of_digits\n",
    "def sum_digits(a):\n",
    "    if len(a) == 0:\n",
    "        return 0 \n",
    "    smalleroutput = sum_digits(a[1:])\n",
    "    return int(a[0]) + smalleroutput\n",
    "a = (input())\n",
    "print(sum_digits(a))\n",
    "    \n",
    "        "
   ]
  },
  {
   "cell_type": "code",
   "execution_count": 51,
   "id": "1f20b0f7",
   "metadata": {},
   "outputs": [
    {
     "name": "stdout",
     "output_type": "stream",
     "text": [
      "40\n",
      "40\n",
      "1600\n"
     ]
    }
   ],
   "source": [
    "#multiplication_recursive\n",
    "def multip_recur(m,n,si):\n",
    "    if m== 0 or n ==0 or n==si:\n",
    "        return 0\n",
    "    return m + multip_recur(m,n,si+1)\n",
    "m = int(input())\n",
    "n = int(input())\n",
    "print(multip_recur(m,n,0))\n",
    "        \n"
   ]
  },
  {
   "cell_type": "code",
   "execution_count": 79,
   "id": "bddc1c0c",
   "metadata": {},
   "outputs": [
    {
     "name": "stdout",
     "output_type": "stream",
     "text": [
      "102000\n",
      "4\n"
     ]
    }
   ],
   "source": [
    "#count_zeroes\n",
    "def count_zeroes(a):\n",
    "    if len(a) ==0:\n",
    "        return 0\n",
    "    if int(a[0]) == 0:\n",
    "        return 1 + count_zeroes(a[1:]) \n",
    "    else:\n",
    "        \n",
    "        return  0 + count_zeroes(a[1:])\n",
    "        \n",
    "    \n",
    "    \n",
    "a = input()\n",
    "a = int(a)\n",
    "a = str(a)\n",
    "print(count_zeroes(a))"
   ]
  },
  {
   "cell_type": "code",
   "execution_count": 102,
   "id": "d21ec5d8",
   "metadata": {},
   "outputs": [
    {
     "name": "stdout",
     "output_type": "stream",
     "text": [
      "004\n",
      "1\n"
     ]
    }
   ],
   "source": [
    "#2.count_zeroes\n",
    "def count_zeroes2(a):\n",
    "    if a ==0:\n",
    "        return 1\n",
    "    \n",
    "    if a%10 == 0:\n",
    "        return 1 + count_zeroes2(a/10)\n",
    "    else:\n",
    "        return 0 + count_zeroes2(a/10)\n",
    "\n",
    "a = input()\n",
    "a = int(a)\n",
    "print(count_zeroes2(a))"
   ]
  },
  {
   "cell_type": "code",
   "execution_count": 38,
   "id": "36a6017d",
   "metadata": {},
   "outputs": [
    {
     "name": "stdout",
     "output_type": "stream",
     "text": [
      "12\n"
     ]
    }
   ],
   "source": [
    "#string_to_integer \n",
    "def string_to_int(a):\n",
    "    n = len(a) \n",
    "    if n == 0: \n",
    "        return 0\n",
    "    b = ord(a[0]) - ord('0') \n",
    "    smalleroutput = string_to_int(a[1:]) \n",
    "    return b*(10**(len(a)-1)) + smalleroutput \n",
    "a = '12' \n",
    "print(string_to_int(a))\n",
    "\n"
   ]
  },
  {
   "cell_type": "code",
   "execution_count": 46,
   "id": "8508c72d",
   "metadata": {},
   "outputs": [
    {
     "name": "stdout",
     "output_type": "stream",
     "text": [
      "12\n"
     ]
    }
   ],
   "source": [
    "#string_to_integer method 2\n",
    "def string_to_int(a):\n",
    "    n = len(a) \n",
    "    if n == 0: \n",
    "        return 0\n",
    "    b = ord(a[n-1]) - ord('0') \n",
    "    smalleroutput = string_to_int(a[:n-1]) \n",
    "    return  smalleroutput*10 + b\n",
    "a = '12' \n",
    "print(string_to_int(a))\n"
   ]
  },
  {
   "cell_type": "code",
   "execution_count": 56,
   "id": "a4960ba3",
   "metadata": {},
   "outputs": [
    {
     "name": "stdout",
     "output_type": "stream",
     "text": [
      "49\n"
     ]
    }
   ],
   "source": [
    "print(ord('1'))"
   ]
  },
  {
   "cell_type": "code",
   "execution_count": 58,
   "id": "183f135a",
   "metadata": {},
   "outputs": [
    {
     "name": "stdout",
     "output_type": "stream",
     "text": [
      "aaaaa\n",
      "a*a*a*a*a\n"
     ]
    }
   ],
   "source": [
    "#pair_star\n",
    "def pair_star(a):\n",
    "    if len(a)==0 or len(a)==1:\n",
    "        return a[0]\n",
    "    smalleroutput = pair_star(a[1:])\n",
    "    if a[0] == a[1]:\n",
    "        return a[0] + \"*\" + smalleroutput\n",
    "    else:\n",
    "        return a[0] + smalleroutput\n",
    "a = input()\n",
    "print(pair_star(a))\n",
    "    "
   ]
  },
  {
   "cell_type": "code",
   "execution_count": 15,
   "id": "50c13ee3",
   "metadata": {},
   "outputs": [
    {
     "name": "stdout",
     "output_type": "stream",
     "text": [
      "5\n",
      "13\n"
     ]
    }
   ],
   "source": [
    "#staircase\n",
    "def staircase(n):\n",
    "    if n<0:\n",
    "        return 0\n",
    "    if n == 0:\n",
    "        return 1\n",
    "    smalleroutput1 = staircase(n-1)\n",
    "    smalleroutput2 = staircase(n-2)\n",
    "    smalleroutput3 = staircase(n-3)\n",
    "    return smalleroutput1 + smalleroutput2 +smalleroutput3\n",
    "n = int(input())\n",
    "print(staircase(n))"
   ]
  },
  {
   "cell_type": "code",
   "execution_count": 8,
   "id": "2b2075b3",
   "metadata": {},
   "outputs": [
    {
     "name": "stdout",
     "output_type": "stream",
     "text": [
      "[1, 3, 5, 6, 7, 9]\n"
     ]
    }
   ],
   "source": [
    "#BUBBLE_SORT\n",
    "def bubble_sort(arr1):\n",
    "    n = len(arr1)\n",
    "    for j in range(n-1,0,-1):\n",
    "        for i in range(j):\n",
    "            if arr1[i]>=arr1[i+1]:\n",
    "                temp = arr1[i]\n",
    "                arr1[i] = arr1[i+1]\n",
    "                arr1[i+1] = temp\n",
    "    return arr1 \n",
    "arr1 = [7, 9 , 6, 3, 5, 1]\n",
    "bubble_sort(arr1)\n",
    "print(arr1)"
   ]
  },
  {
   "cell_type": "code",
   "execution_count": 3,
   "id": "0a4a3767",
   "metadata": {},
   "outputs": [
    {
     "name": "stdout",
     "output_type": "stream",
     "text": [
      "[2, 1, 2]\n"
     ]
    }
   ],
   "source": [
    "#Array_intersection\n",
    "def array_inter(n,arr1,m,arr2):\n",
    "    b = []\n",
    "    if n>=m:\n",
    "        for i in range(m):\n",
    "            if arr2[i] in arr1:\n",
    "                b.append(arr2[i])\n",
    "    elif m>=n:\n",
    "        for i in range(n):\n",
    "            if arr1[i] in arr2:\n",
    "                b.append(arr1[i])\n",
    "    return b\n",
    "n = 4\n",
    "arr1 = [2, 6, 1, 2]\n",
    "m = 5\n",
    "arr2 = [1, 2, 3, 4, 2]\n",
    "print(array_inter(n,arr1,m,arr2))\n",
    "\n",
    "\n",
    "            \n",
    "            \n",
    "        "
   ]
  },
  {
   "cell_type": "code",
   "execution_count": null,
   "id": "dc072f1c",
   "metadata": {},
   "outputs": [],
   "source": []
  }
 ],
 "metadata": {
  "kernelspec": {
   "display_name": "Python 3 (ipykernel)",
   "language": "python",
   "name": "python3"
  },
  "language_info": {
   "codemirror_mode": {
    "name": "ipython",
    "version": 3
   },
   "file_extension": ".py",
   "mimetype": "text/x-python",
   "name": "python",
   "nbconvert_exporter": "python",
   "pygments_lexer": "ipython3",
   "version": "3.9.12"
  }
 },
 "nbformat": 4,
 "nbformat_minor": 5
}
